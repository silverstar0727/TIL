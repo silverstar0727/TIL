{
  "nbformat": 4,
  "nbformat_minor": 0,
  "metadata": {
    "colab": {
      "name": "pretty_DL_code(TF).ipynb",
      "provenance": [],
      "collapsed_sections": []
    },
    "kernelspec": {
      "name": "python3",
      "display_name": "Python 3"
    },
    "language_info": {
      "name": "python"
    },
    "accelerator": "GPU"
  },
  "cells": [
    {
      "cell_type": "code",
      "metadata": {
        "id": "2ZBBRPXYXZrG"
      },
      "source": [
        "import tensorflow as tf\n",
        "import matplotlib.pyplot as plt\n",
        "from sklearn.model_selection import train_test_split\n",
        "import argparse"
      ],
      "execution_count": 1,
      "outputs": []
    },
    {
      "cell_type": "code",
      "metadata": {
        "id": "zaLXDZIabIfa",
        "colab": {
          "base_uri": "https://localhost:8080/"
        },
        "outputId": "d0fd201e-c51a-49f7-8420-8d0aff924e97"
      },
      "source": [
        "cifar10 = tf.keras.datasets.cifar10\n",
        "\n",
        "(x_train, y_train), (x_test, y_test) = cifar10.load_data()\n",
        "x_train, x_test = x_train / 255.0, x_test / 255.0\n",
        "\n",
        "x_train, x_val, y_train, y_val = train_test_split(x_train, y_train, test_size=0.2, random_state=3)"
      ],
      "execution_count": 2,
      "outputs": [
        {
          "output_type": "stream",
          "text": [
            "Downloading data from https://www.cs.toronto.edu/~kriz/cifar-10-python.tar.gz\n",
            "170500096/170498071 [==============================] - 2s 0us/step\n"
          ],
          "name": "stdout"
        }
      ]
    },
    {
      "cell_type": "code",
      "metadata": {
        "colab": {
          "base_uri": "https://localhost:8080/"
        },
        "id": "eNsO8u2nbf7r",
        "outputId": "ec284f90-4196-4cfe-b97d-480f703935dd"
      },
      "source": [
        "print(\"x shape\")\n",
        "print(f\"train: {x_train.shape}, val: {x_val.shape}, test: {x_test.shape}\")\n",
        "print(\"y shape\")\n",
        "print(f\"train: {y_train.shape}, val: {y_val.shape}, test: {y_test.shape}\")"
      ],
      "execution_count": 3,
      "outputs": [
        {
          "output_type": "stream",
          "text": [
            "x shape\n",
            "train: (40000, 32, 32, 3), val: (10000, 32, 32, 3), test: (10000, 32, 32, 3)\n",
            "y shape\n",
            "train: (40000, 1), val: (10000, 1), test: (10000, 1)\n"
          ],
          "name": "stdout"
        }
      ]
    },
    {
      "cell_type": "code",
      "metadata": {
        "id": "MUui0vGeXwwN"
      },
      "source": [
        "class MLP(tf.keras.Model):\n",
        "    def __init__(self, out_dim, hid_dim, n_layer, act):\n",
        "        super(MLP, self).__init__()\n",
        "        self.out_dim = out_dim\n",
        "        self.hid_dim = hid_dim\n",
        "        self.n_layer = n_layer\n",
        "        self.act = act\n",
        "\n",
        "        self.flatten = tf.keras.layers.Flatten(input_shape=(32, 32))\n",
        "        self.fc = tf.keras.layers.Dense(self.out_dim)\n",
        "        self.linears = [\n",
        "            tf.keras.layers.Dense(self.hid_dim) for i in range(self.n_layer - 1)]\n",
        "\n",
        "        self.fc2 = tf.keras.layers.Dense(self.out_dim)\n",
        "\n",
        "        if self.act == 'relu':\n",
        "            self.act = tf.keras.layers.Activation('relu')\n",
        "\n",
        "    def call(self, x):\n",
        "        x = self.flatten(x)\n",
        "        x = self.act(self.fc(x))\n",
        "        for fc in self.linears:\n",
        "            x = self.act(fc(x))\n",
        "        x = self.fc2(x)\n",
        "        return x\n",
        "\n",
        "net = MLP(10, 100, 4, 'relu')"
      ],
      "execution_count": 4,
      "outputs": []
    },
    {
      "cell_type": "code",
      "metadata": {
        "id": "QNw0u3JkmxJi"
      },
      "source": [
        "def experiment(args):\n",
        "    net = MLP(args.out_dim, args.hid_dim, args.n_layer, args.act)\n",
        "\n",
        "    loss = tf.keras.losses.SparseCategoricalCrossentropy()\n",
        "    optimizer = tf.keras.optimizers.SGD(learning_rate=args.lr, momentum=args.mm)\n",
        "    metrics = tf.keras.metrics.SparseCategoricalAccuracy()\n",
        "\n",
        "    net.compile(optimizer, loss, metrics)\n",
        "\n",
        "    result = net.fit(\n",
        "        x_train, y_train, \n",
        "        epochs=args.epochs, \n",
        "        validation_data=(x_val, y_val), \n",
        "        batch_size=args.batch_size)\n",
        "    \n",
        "    test_result = net.evaluate(x_test, y_test)\n",
        "    \n",
        "    train_loss = result.history['loss']\n",
        "    val_acc = result.history['val_sparse_categorical_accuracy']\n",
        "    val_loss = result.history['val_loss']\n",
        "    test_acc = test_result[1]\n",
        "\n",
        "    return train_loss, val_loss, val_acc, test_acc"
      ],
      "execution_count": 5,
      "outputs": []
    },
    {
      "cell_type": "code",
      "metadata": {
        "colab": {
          "base_uri": "https://localhost:8080/"
        },
        "id": "h46ApO9taP7w",
        "outputId": "803e8082-1df3-49bc-f027-319407412dcb"
      },
      "source": [
        "parser = argparse.ArgumentParser()\n",
        "args = parser.parse_args('')\n",
        "\n",
        "args.n_layer = 5\n",
        "args.out_dim = 10\n",
        "args.hid_dim = 100\n",
        "args.act = 'relu'\n",
        "\n",
        "args.lr = 0.001\n",
        "args.mm = 0.9\n",
        "args.epochs = 2\n",
        "args.batch_size = 128\n",
        "\n",
        "list_var1 = [4 ,5, 6]\n",
        "list_var2 = [50, 100, 150]\n",
        "\n",
        "for var1 in list_var1:\n",
        "    for var2 in list_var2:\n",
        "        args.n_layer = var1\n",
        "        args.hid_dim = var2\n",
        "        result = experiment(args)\n",
        "        print(result)"
      ],
      "execution_count": 7,
      "outputs": [
        {
          "output_type": "stream",
          "text": [
            "Epoch 1/2\n",
            "313/313 [==============================] - 2s 5ms/step - loss: 2.3621 - sparse_categorical_accuracy: 0.1013 - val_loss: 2.3026 - val_sparse_categorical_accuracy: 0.0970\n",
            "Epoch 2/2\n",
            "313/313 [==============================] - 1s 4ms/step - loss: 2.3026 - sparse_categorical_accuracy: 0.1007 - val_loss: 2.3026 - val_sparse_categorical_accuracy: 0.0970\n",
            "313/313 [==============================] - 1s 2ms/step - loss: 2.3026 - sparse_categorical_accuracy: 0.1000\n",
            "([2.3620524406433105, 2.30259108543396], [2.3025832176208496, 2.3025832176208496], [0.09700000286102295, 0.09700000286102295], 0.10000000149011612)\n",
            "Epoch 1/2\n",
            "313/313 [==============================] - 2s 5ms/step - loss: 5.2256 - sparse_categorical_accuracy: 0.1011 - val_loss: 5.2046 - val_sparse_categorical_accuracy: 0.1013\n",
            "Epoch 2/2\n",
            "313/313 [==============================] - 1s 4ms/step - loss: 4.7854 - sparse_categorical_accuracy: 0.1188 - val_loss: 3.3751 - val_sparse_categorical_accuracy: 0.1850\n",
            "313/313 [==============================] - 1s 2ms/step - loss: 3.3983 - sparse_categorical_accuracy: 0.1810\n",
            "([5.225581169128418, 4.7853684425354], [5.204588890075684, 3.3751020431518555], [0.10130000114440918, 0.1850000023841858], 0.1809999942779541)\n",
            "Epoch 1/2\n",
            "313/313 [==============================] - 2s 5ms/step - loss: 2.5046 - sparse_categorical_accuracy: 0.0998 - val_loss: 2.3026 - val_sparse_categorical_accuracy: 0.1006\n",
            "Epoch 2/2\n",
            "313/313 [==============================] - 1s 4ms/step - loss: 2.3026 - sparse_categorical_accuracy: 0.0998 - val_loss: 2.3026 - val_sparse_categorical_accuracy: 0.1006\n",
            "313/313 [==============================] - 1s 2ms/step - loss: 2.3026 - sparse_categorical_accuracy: 0.1000\n",
            "([2.504638195037842, 2.30259108543396], [2.3025832176208496, 2.3025832176208496], [0.1005999967455864, 0.1005999967455864], 0.10000000149011612)\n",
            "Epoch 1/2\n",
            "313/313 [==============================] - 2s 5ms/step - loss: 6.7536 - sparse_categorical_accuracy: 0.0993 - val_loss: 6.8937 - val_sparse_categorical_accuracy: 0.1040\n",
            "Epoch 2/2\n",
            "313/313 [==============================] - 1s 4ms/step - loss: 6.7452 - sparse_categorical_accuracy: 0.0990 - val_loss: 6.9111 - val_sparse_categorical_accuracy: 0.1040\n",
            "313/313 [==============================] - 1s 2ms/step - loss: 6.7810 - sparse_categorical_accuracy: 0.1000\n",
            "([6.753582000732422, 6.745185852050781], [6.893700122833252, 6.911128997802734], [0.10400000214576721, 0.10400000214576721], 0.10000000149011612)\n",
            "Epoch 1/2\n",
            "313/313 [==============================] - 2s 5ms/step - loss: 3.8275 - sparse_categorical_accuracy: 0.0996 - val_loss: 3.7994 - val_sparse_categorical_accuracy: 0.1013\n",
            "Epoch 2/2\n",
            "313/313 [==============================] - 1s 5ms/step - loss: 3.8115 - sparse_categorical_accuracy: 0.0997 - val_loss: 3.7994 - val_sparse_categorical_accuracy: 0.1013\n",
            "313/313 [==============================] - 1s 2ms/step - loss: 3.8089 - sparse_categorical_accuracy: 0.1000\n",
            "([3.8274593353271484, 3.811514377593994], [3.7993664741516113, 3.7993710041046143], [0.10130000114440918, 0.10130000114440918], 0.10000000149011612)\n",
            "Epoch 1/2\n",
            "313/313 [==============================] - 2s 5ms/step - loss: 6.7608 - sparse_categorical_accuracy: 0.0997 - val_loss: 6.8922 - val_sparse_categorical_accuracy: 0.1013\n",
            "Epoch 2/2\n",
            "313/313 [==============================] - 1s 4ms/step - loss: 6.7484 - sparse_categorical_accuracy: 0.0997 - val_loss: 6.8925 - val_sparse_categorical_accuracy: 0.1013\n",
            "313/313 [==============================] - 1s 2ms/step - loss: 6.7812 - sparse_categorical_accuracy: 0.1000\n",
            "([6.760782718658447, 6.748351573944092], [6.892157077789307, 6.892467975616455], [0.10130000114440918, 0.10130000114440918], 0.10000000149011612)\n",
            "Epoch 1/2\n",
            "313/313 [==============================] - 2s 5ms/step - loss: 5.2438 - sparse_categorical_accuracy: 0.1012 - val_loss: 5.1561 - val_sparse_categorical_accuracy: 0.0970\n",
            "Epoch 2/2\n",
            "313/313 [==============================] - 1s 5ms/step - loss: 5.1232 - sparse_categorical_accuracy: 0.1007 - val_loss: 5.0902 - val_sparse_categorical_accuracy: 0.0970\n",
            "313/313 [==============================] - 1s 3ms/step - loss: 5.0944 - sparse_categorical_accuracy: 0.1000\n",
            "([5.243771076202393, 5.123208522796631], [5.156082630157471, 5.090161323547363], [0.09700000286102295, 0.09700000286102295], 0.10000000149011612)\n",
            "Epoch 1/2\n",
            "313/313 [==============================] - 2s 5ms/step - loss: 3.8300 - sparse_categorical_accuracy: 0.1231 - val_loss: 2.1396 - val_sparse_categorical_accuracy: 0.1596\n",
            "Epoch 2/2\n",
            "313/313 [==============================] - 1s 4ms/step - loss: 2.1287 - sparse_categorical_accuracy: 0.1718 - val_loss: 2.0969 - val_sparse_categorical_accuracy: 0.1838\n",
            "313/313 [==============================] - 1s 2ms/step - loss: 2.1048 - sparse_categorical_accuracy: 0.1828\n",
            "([3.8300323486328125, 2.1287448406219482], [2.1395857334136963, 2.0968620777130127], [0.15960000455379486, 0.18379999697208405], 0.18279999494552612)\n",
            "Epoch 1/2\n",
            "313/313 [==============================] - 2s 5ms/step - loss: 7.7780 - sparse_categorical_accuracy: 0.1004 - val_loss: 8.0460 - val_sparse_categorical_accuracy: 0.0918\n",
            "Epoch 2/2\n",
            "313/313 [==============================] - 1s 5ms/step - loss: 7.9248 - sparse_categorical_accuracy: 0.1020 - val_loss: 8.0450 - val_sparse_categorical_accuracy: 0.0918\n",
            "313/313 [==============================] - 1s 3ms/step - loss: 7.9463 - sparse_categorical_accuracy: 0.1000\n",
            "([7.777988433837891, 7.924808025360107], [8.045982360839844, 8.045019149780273], [0.09179999679327011, 0.09179999679327011], 0.10000000149011612)\n"
          ],
          "name": "stdout"
        }
      ]
    },
    {
      "cell_type": "code",
      "metadata": {
        "id": "PZ2isgTvbwTC"
      },
      "source": [
        ""
      ],
      "execution_count": null,
      "outputs": []
    }
  ]
}