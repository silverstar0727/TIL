{
  "nbformat": 4,
  "nbformat_minor": 0,
  "metadata": {
    "colab": {
      "name": "MNISTwithMLP(TF).ipynb",
      "provenance": [],
      "collapsed_sections": []
    },
    "kernelspec": {
      "name": "python3",
      "display_name": "Python 3"
    },
    "language_info": {
      "name": "python"
    },
    "accelerator": "GPU"
  },
  "cells": [
    {
      "cell_type": "code",
      "metadata": {
        "id": "pkPsve34FMBT"
      },
      "source": [
        "import tensorflow as tf\n",
        "from sklearn.model_selection import train_test_split\n",
        "\n",
        "mnist = tf.keras.datasets.mnist\n",
        "(x_train, y_train), (x_test, y_test) = mnist.load_data()\n",
        "x_train, x_test = x_train / 255.0, x_test / 255.0\n",
        "\n",
        "x_train, x_val, y_train, y_val = train_test_split(x_train, y_train, test_size=0.2, random_state=3)"
      ],
      "execution_count": 30,
      "outputs": []
    },
    {
      "cell_type": "code",
      "metadata": {
        "colab": {
          "base_uri": "https://localhost:8080/"
        },
        "id": "jDkKFwTKIcr1",
        "outputId": "366db9f7-674a-4bbd-d134-545ceeeabdaf"
      },
      "source": [
        "print(\"x shape\")\n",
        "print(f\"train: {x_train.shape}, val: {x_val.shape}, test: {x_test.shape}\")\n",
        "print(\"y shape\")\n",
        "print(f\"train: {y_train.shape}, val: {y_val.shape}, test: {y_test.shape}\")"
      ],
      "execution_count": 31,
      "outputs": [
        {
          "output_type": "stream",
          "text": [
            "x shape\n",
            "train: (48000, 28, 28), val: (12000, 28, 28), test: (10000, 28, 28)\n",
            "y shape\n",
            "train: (48000,), val: (12000,), test: (10000,)\n"
          ],
          "name": "stdout"
        }
      ]
    },
    {
      "cell_type": "code",
      "metadata": {
        "id": "MEnUU4jVF5VO"
      },
      "source": [
        "class MLP(tf.keras.Model):\n",
        "    def __init__(self):\n",
        "        super(MLP, self).__init__()\n",
        "        self.flatten = tf.keras.layers.Flatten(input_shape=(28, 28))\n",
        "        self.linear = tf.keras.layers.Dense(10, activation='softmax')\n",
        "\n",
        "    def call(self, x):\n",
        "        x = self.flatten(x)\n",
        "        x = self.linear(x)\n",
        "        return x\n",
        "\n",
        "model = MLP()"
      ],
      "execution_count": 32,
      "outputs": []
    },
    {
      "cell_type": "code",
      "metadata": {
        "id": "6UQL45EKGxCW"
      },
      "source": [
        "# loss function\n",
        "loss = tf.keras.losses.SparseCategoricalCrossentropy()\n",
        "\n",
        "# optimizer \n",
        "lr = 0.005\n",
        "optimizer = tf.keras.optimizers.Adam()\n",
        "\n",
        "# metrics\n",
        "metrics = tf.keras.metrics.SparseCategoricalAccuracy()"
      ],
      "execution_count": 33,
      "outputs": []
    },
    {
      "cell_type": "code",
      "metadata": {
        "id": "8PH-bqtZO8h-"
      },
      "source": [
        "# compile\n",
        "model.compile(optimizer=optimizer,\n",
        "              loss=loss,\n",
        "              metrics=[metrics])"
      ],
      "execution_count": 34,
      "outputs": []
    },
    {
      "cell_type": "code",
      "metadata": {
        "id": "0X0G5a-hIGcb"
      },
      "source": [
        "epochs = 30\n",
        "batch_size = 128\n",
        "result = model.fit(x_train, y_train, batch_size=batch_size, epochs=epochs, verbose=0, validation_data=(x_val, y_val))"
      ],
      "execution_count": 35,
      "outputs": []
    },
    {
      "cell_type": "code",
      "metadata": {
        "colab": {
          "base_uri": "https://localhost:8080/"
        },
        "id": "MJbCQv6LJ6En",
        "outputId": "2e653e63-fab5-4a8c-d987-5d221955cb53"
      },
      "source": [
        "eval_result = model.evaluate(x_test, y_test)"
      ],
      "execution_count": 36,
      "outputs": [
        {
          "output_type": "stream",
          "text": [
            "313/313 [==============================] - 0s 1ms/step - loss: 0.2645 - sparse_categorical_accuracy: 0.9256\n"
          ],
          "name": "stdout"
        }
      ]
    },
    {
      "cell_type": "code",
      "metadata": {
        "id": "LI9YrayaTXkU"
      },
      "source": [
        "train_acc = result.history['sparse_categorical_accuracy']\n",
        "train_loss = result.history['loss']\n",
        "val_acc = result.history['val_sparse_categorical_accuracy']\n",
        "val_loss = result.history['val_loss']"
      ],
      "execution_count": 37,
      "outputs": []
    },
    {
      "cell_type": "code",
      "metadata": {
        "colab": {
          "base_uri": "https://localhost:8080/",
          "height": 367
        },
        "id": "vhQmmo4QTcZQ",
        "outputId": "01cc69a2-24fd-4a59-f4a8-5f526da899ff"
      },
      "source": [
        "import matplotlib.pyplot as plt\n",
        "\n",
        "fig = plt.figure(figsize=(15, 5))\n",
        "ax1 = fig.add_subplot(1, 2, 1)\n",
        "ax1.set_title('Accuracy')\n",
        "ax1.set_xlabel('epoch')\n",
        "ax1.set_ylabel('acc')\n",
        "ax1.grid()\n",
        "ax1.plot(train_acc)\n",
        "ax1.plot(val_acc)\n",
        "\n",
        "ax2 = fig.add_subplot(1, 2, 2)\n",
        "ax2.set_title(\"Loss\")\n",
        "ax2.set_xlabel('epoch')\n",
        "ax2.set_ylabel('loss')\n",
        "ax2.grid()\n",
        "ax2.plot(train_loss)\n",
        "ax2.plot(val_loss)"
      ],
      "execution_count": 38,
      "outputs": [
        {
          "output_type": "execute_result",
          "data": {
            "text/plain": [
              "[<matplotlib.lines.Line2D at 0x7f410bc80c90>]"
            ]
          },
          "metadata": {
            "tags": []
          },
          "execution_count": 38
        },
        {
          "output_type": "display_data",
          "data": {
            "image/png": "[encoded data removed]",
            "text/plain": [
              "<Figure size 1080x360 with 2 Axes>"
            ]
          },
          "metadata": {
            "tags": [],
            "needs_background": "light"
          }
        }
      ]
    },
    {
      "cell_type": "code",
      "metadata": {
        "id": "fj8Sjss_XJWk"
      },
      "source": [
        ""
      ],
      "execution_count": 38,
      "outputs": []
    }
  ]
}